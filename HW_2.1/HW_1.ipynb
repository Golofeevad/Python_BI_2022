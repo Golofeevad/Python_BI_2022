{
 "cells": [
  {
   "cell_type": "markdown",
   "id": "7c5a538f-2dbe-445c-9f46-cf0dc18867e4",
   "metadata": {},
   "source": [
    "# Задание 1 (5 баллов)"
   ]
  },
  {
   "cell_type": "markdown",
   "id": "1e8cc3b0-6f60-40da-8058-30d9eb434daf",
   "metadata": {},
   "source": [
    "Напишите классы **Chat**, **Message** и **User**. Они должны соответствовать следующим требованиям:\n",
    "\n",
    "**Chat**:\n",
    "+ Должен иметь атрибут `chat_history`, где будут храниться все сообщения (`Message`) в обратном хронологическом порядке (сначала новые, затем старые)\n",
    "+ Должен иметь метод `show_last_message`, выводящий на экран информацию о последнем сообщении\n",
    "+ Должен иметь метод `get_history_from_time_period`, который принимает два опциональных аргумента (даты с которой и по какую мы ищем сообщения и выдаём их). Метод также должен возвращать объект типа `Chat`\n",
    "+ Должен иметь метод `show_chat`, выводящий на экран все сообщения (каждое сообщение в таком же виде как и `show_last_message`, но с разделителем между ними)\n",
    "+ Должен иметь метод `recieve`, который будет принимать сообщение и добавлять его в чат\n",
    "\n",
    "**Message**:\n",
    "+ Должен иметь три обязательных атрибута\n",
    "    + `text` - текст сообщения\n",
    "    + `datetime` - дата и время сообщения (встроенный модуль datetime вам в помощь). Важно! Это должна быть не дата создания сообщения, а дата его попадания в чат! \n",
    "    + `user` - информация о пользователе, который оставил сообщение (какой тип данных использовать здесь, разберётесь сами)\n",
    "+ Должен иметь метод `show`, который печатает или возвращает информацию о сообщении с необходимой информацией (дата, время, юзер, текст)\n",
    "+ Должен иметь метод `send`, который будет отправлять сообщение в чат\n",
    "\n",
    "**User**:\n",
    "+ Класс с информацией о юзере, наполнение для этого класса придумайте сами\n",
    "\n",
    "Напишите несколько примеров использования кода, которое показывает взаимодействие между объектами.\n",
    "\n",
    "В тексте задания намерено не указано, какие аргументы должны принимать методы, пускай вам в этом поможет здравый смысл)\n",
    "\n",
    "В этом задании не стоит флексить всякими продвинутыми штуками, для этого есть последующие\n",
    "\n",
    "В этом задании можно использовать только модуль `datetime`"
   ]
  },
  {
   "cell_type": "code",
   "execution_count": 1,
   "outputs": [],
   "source": [
    "from datetime import datetime"
   ],
   "metadata": {
    "collapsed": false
   }
  },
  {
   "cell_type": "code",
   "execution_count": 155,
   "outputs": [],
   "source": [
    "class Chat:\n",
    "    def __init__(self, messages=None):\n",
    "        if messages is None:\n",
    "            self.chat_history = [Message('Your chat started!', User('Admin', None, None), datetime.now())]\n",
    "        else:\n",
    "            self.chat_history = messages\n",
    "\n",
    "    def show_last_message(self):\n",
    "            self.chat_history[0].show()\n",
    "\n",
    "    def get_history_from_time_period(self, start_time=None, end_time=None):\n",
    "        if start_time is None and end_time is None:\n",
    "            return self\n",
    "        elif start_time > self.chat_history[0].datetime or end_time < self.chat_history[-1].datetime or start_time > end_time:\n",
    "            raise ValueError(f\"Incorrect dates interval\")\n",
    "        else:\n",
    "            chat_history = [msg for msg in self.chat_history if start_time <= msg.datetime <= end_time]\n",
    "            return Chat(chat_history)\n",
    "\n",
    "    def show_chat(self):\n",
    "        for msg in self.chat_history:\n",
    "            msg.show()\n",
    "            print()\n",
    "\n",
    "    def receive(self, msg):\n",
    "        msg.datetime = datetime.now()\n",
    "        self.chat_history.insert(0, msg)\n"
   ],
   "metadata": {
    "collapsed": false
   }
  },
  {
   "cell_type": "code",
   "execution_count": 156,
   "outputs": [],
   "source": [
    "class Message:\n",
    "\n",
    "    def __init__(self, text, user, chat_datetime=None):\n",
    "        self.text = text\n",
    "        self.user = user\n",
    "        self.datetime = chat_datetime\n",
    "\n",
    "    def show(self):\n",
    "        print(f'The text of message: {self.text} \\n'\n",
    "              f'The date and time of message: {self.datetime} \\n'\n",
    "              f'Written by {self.user.username}')\n",
    "\n",
    "    def send(self, chat):\n",
    "        chat.receive(self)"
   ],
   "metadata": {
    "collapsed": false
   }
  },
  {
   "cell_type": "code",
   "execution_count": 157,
   "id": "d14ce6ca-7294-492c-8a01-3f7547680474",
   "metadata": {},
   "outputs": [],
   "source": [
    "class User:\n",
    "    def __init__(self, username, name, lastname):\n",
    "        self.username = username\n",
    "        self.name = name\n",
    "        self.lastname = lastname"
   ]
  },
  {
   "cell_type": "code",
   "execution_count": 158,
   "outputs": [],
   "source": [
    "user1 = User('Joey_Tribbiani', 'Joey', 'Tribbiani')\n",
    "user2 = User('Monica_Geller', 'Monica', 'Geller')\n",
    "user1_user2_chat =  Chat()\n",
    "message1 = Message('Some girl ate Monica!', user1)\n",
    "message2 = Message('Shut up! The camera adds ten pounds!', user2)\n",
    "message3  = Message('So how many cameras are actually on you?', user1)"
   ],
   "metadata": {
    "collapsed": false
   }
  },
  {
   "cell_type": "code",
   "execution_count": 159,
   "outputs": [],
   "source": [
    "message1.send(user1_user2_chat)"
   ],
   "metadata": {
    "collapsed": false
   }
  },
  {
   "cell_type": "code",
   "execution_count": 160,
   "outputs": [],
   "source": [
    "message2.send(user1_user2_chat)"
   ],
   "metadata": {
    "collapsed": false
   }
  },
  {
   "cell_type": "code",
   "execution_count": 161,
   "outputs": [],
   "source": [
    "message3.send(user1_user2_chat)"
   ],
   "metadata": {
    "collapsed": false
   }
  },
  {
   "cell_type": "code",
   "execution_count": 162,
   "outputs": [
    {
     "name": "stdout",
     "output_type": "stream",
     "text": [
      "The text of message: So how many cameras are actually on you? \n",
      "The date and time of message: 2023-02-24 10:43:06.338851 \n",
      "Written by Joey_Tribbiani\n",
      "\n",
      "The text of message: Shut up! The camera adds ten pounds! \n",
      "The date and time of message: 2023-02-24 10:43:02.055362 \n",
      "Written by Monica_Geller\n",
      "\n",
      "The text of message: Some girl ate Monica! \n",
      "The date and time of message: 2023-02-24 10:42:56.407483 \n",
      "Written by Joey_Tribbiani\n",
      "\n",
      "The text of message: Your chat started! \n",
      "The date and time of message: 2023-02-24 10:42:53.094683 \n",
      "Written by Admin\n",
      "\n"
     ]
    }
   ],
   "source": [
    "user1_user2_chat.show_chat()"
   ],
   "metadata": {
    "collapsed": false
   }
  },
  {
   "cell_type": "code",
   "execution_count": 163,
   "outputs": [
    {
     "name": "stdout",
     "output_type": "stream",
     "text": [
      "The text of message: So how many cameras are actually on you? \n",
      "The date and time of message: 2023-02-24 10:43:06.338851 \n",
      "Written by Joey_Tribbiani\n"
     ]
    }
   ],
   "source": [
    "time_period_chat = user1_user2_chat.get_history_from_time_period()\n",
    "time_period_chat.show_last_message()"
   ],
   "metadata": {
    "collapsed": false
   }
  },
  {
   "cell_type": "code",
   "execution_count": 164,
   "outputs": [],
   "source": [
    "time_period_chat = user1_user2_chat.get_history_from_time_period(start_time=datetime(2023, 2, 24, 10, 42, 55),\n",
    "    end_time=datetime(2023, 2, 24, 10, 43, 3))"
   ],
   "metadata": {
    "collapsed": false
   }
  },
  {
   "cell_type": "code",
   "execution_count": 142,
   "outputs": [
    {
     "name": "stdout",
     "output_type": "stream",
     "text": [
      "The text of message: Shut up! The camera adds ten pounds! \n",
      "The date and time of message: 2023-02-24 10:32:48.819178 \n",
      "Written by Monica_Geller\n",
      "\n",
      "The text of message: Some girl ate Monica! \n",
      "The date and time of message: 2023-02-24 10:32:43.335695 \n",
      "Written by Joey_Tribbiani\n",
      "\n"
     ]
    }
   ],
   "source": [
    "time_period_chat.show_chat()"
   ],
   "metadata": {
    "collapsed": false
   }
  },
  {
   "cell_type": "markdown",
   "id": "a59aa1b3-4c93-480e-a09f-e57df34eb60a",
   "metadata": {},
   "source": [
    "# Задание 2 (3 балла)"
   ]
  },
  {
   "cell_type": "markdown",
   "id": "ab07eb69-877f-4c38-8c7d-88beae20071b",
   "metadata": {},
   "source": [
    "В питоне как-то слишком типично и неинтересно происходят вызовы функций. Напишите класс `Args`, который будет хранить в себе аргументы, а функции можно будет вызывать при помощи следующего синтаксиса.\n",
    "\n",
    "Использовать любые модули **нельзя**, да и вряд-ли это как-то поможет)"
   ]
  },
  {
   "cell_type": "code",
   "execution_count": 223,
   "id": "d73d6b31-c15a-4ae6-ad9b-b3fdab88efed",
   "metadata": {},
   "outputs": [],
   "source": [
    "class Args:\n",
    "\n",
    "    def __init__(self, *args, **kwargs):\n",
    "        self.__args = args\n",
    "        self.__kwargs = kwargs\n",
    "\n",
    "    def __rlshift__(self, other):\n",
    "        return other(*self.__args, **self.__kwargs)"
   ]
  },
  {
   "cell_type": "code",
   "execution_count": 224,
   "id": "55afedbb-4725-4078-bd98-bf803be0bf93",
   "metadata": {},
   "outputs": [
    {
     "data": {
      "text/plain": "3"
     },
     "execution_count": 224,
     "metadata": {},
     "output_type": "execute_result"
    }
   ],
   "source": [
    "sum << Args([1, 2])"
   ]
  },
  {
   "cell_type": "code",
   "execution_count": 225,
   "id": "c37f0728-9bdc-469e-a5b8-3ab5aa43a731",
   "metadata": {},
   "outputs": [
    {
     "data": {
      "text/plain": "53"
     },
     "execution_count": 225,
     "metadata": {},
     "output_type": "execute_result"
    }
   ],
   "source": [
    "(lambda a, b, c: a**2 + b + c) << Args(1, 2, c=50)"
   ]
  },
  {
   "cell_type": "markdown",
   "id": "d6915eaf-92fe-460b-bf9b-06ccf55b093f",
   "metadata": {},
   "source": [
    "# Задание 3 (5 баллов)"
   ]
  },
  {
   "cell_type": "markdown",
   "id": "5a588ef8-8af6-42b6-972b-3c716a604c34",
   "metadata": {},
   "source": [
    "Сделайте класс наследник `float`. Он должен вести себя как `float`, но также должен обладать некоторыми особенностями:\n",
    "+ При получении атрибутов формата `<действие>_<число>` мы получаем результат такого действия над нашим числом\n",
    "+ Создавать данные атрибуты в явном виде, очевидно, не стоит\n",
    "\n",
    "Подсказка: если в процессе гуглёжки, вы выйдете на такую тему как **\"Дескрипторы\", то это НЕ то, что вам сейчас нужно**\n",
    "\n",
    "Примеры использования ниже"
   ]
  },
  {
   "cell_type": "code",
   "execution_count": 208,
   "id": "61cb63a2-90ac-4b79-97a5-bb0496262e32",
   "metadata": {},
   "outputs": [],
   "source": [
    "class StrangeFloat(float):\n",
    "    def __init__(self, val):\n",
    "        super(StrangeFloat, self).__init__()\n",
    "        self.val = val\n",
    "\n",
    "    def __getattribute__(self, name):\n",
    "        try:\n",
    "            action, arg = name.split(\"_\")\n",
    "            arg = float(arg)\n",
    "        except ValueError:\n",
    "            return super().__getattribute__(name)\n",
    "\n",
    "        if action == \"add\":\n",
    "            return StrangeFloat(self.val + arg)\n",
    "        elif action == \"subtract\":\n",
    "            return StrangeFloat(self.val - arg)\n",
    "        elif action == \"multiply\":\n",
    "            return StrangeFloat(self.val * arg)\n",
    "        elif action == \"divide\":\n",
    "            return StrangeFloat(self.val / arg)\n",
    "        else:\n",
    "            raise NotImplementedError(f'No action called {action}')"
   ]
  },
  {
   "cell_type": "code",
   "execution_count": 209,
   "id": "f730c9c0-7d90-4037-97c6-e926dcbc1ea3",
   "metadata": {},
   "outputs": [],
   "source": [
    "number = StrangeFloat(3.5)"
   ]
  },
  {
   "cell_type": "code",
   "execution_count": 210,
   "id": "b2756368-a489-486d-a0f1-244697f8503c",
   "metadata": {},
   "outputs": [
    {
     "data": {
      "text/plain": "4.5"
     },
     "execution_count": 210,
     "metadata": {},
     "output_type": "execute_result"
    }
   ],
   "source": [
    "number.add_1"
   ]
  },
  {
   "cell_type": "code",
   "execution_count": 211,
   "id": "c6799592-3cb6-4c7d-af62-9c0a48a76c1d",
   "metadata": {},
   "outputs": [
    {
     "data": {
      "text/plain": "-16.5"
     },
     "execution_count": 211,
     "metadata": {},
     "output_type": "execute_result"
    }
   ],
   "source": [
    "number.subtract_20"
   ]
  },
  {
   "cell_type": "code",
   "execution_count": 212,
   "id": "130027b5-017a-4c70-b072-1fdc6acf670f",
   "metadata": {},
   "outputs": [
    {
     "data": {
      "text/plain": "17.5"
     },
     "execution_count": 212,
     "metadata": {},
     "output_type": "execute_result"
    }
   ],
   "source": [
    "number.multiply_5"
   ]
  },
  {
   "cell_type": "code",
   "execution_count": 213,
   "id": "2b901e5c-5a51-4788-b15b-9b20a074e1a4",
   "metadata": {},
   "outputs": [
    {
     "data": {
      "text/plain": "0.14"
     },
     "execution_count": 213,
     "metadata": {},
     "output_type": "execute_result"
    }
   ],
   "source": [
    "number.divide_25"
   ]
  },
  {
   "cell_type": "code",
   "execution_count": 214,
   "id": "ea52c492-b0ce-4d73-8aba-a0ea51ed0b60",
   "metadata": {},
   "outputs": [
    {
     "data": {
      "text/plain": "-4.125"
     },
     "execution_count": 214,
     "metadata": {},
     "output_type": "execute_result"
    }
   ],
   "source": [
    "number.add_1.add_2.multiply_6.divide_8.subtract_9"
   ]
  },
  {
   "cell_type": "code",
   "execution_count": 215,
   "id": "e26ef411-a5df-46c7-bb9d-e77a1fad3cec",
   "metadata": {},
   "outputs": [
    {
     "data": {
      "text/plain": "1.0"
     },
     "execution_count": 215,
     "metadata": {},
     "output_type": "execute_result"
    }
   ],
   "source": [
    "getattr(number, \"add_-2.5\")   # Используем getattr, так как не можем написать number.add_-2.5 - это SyntaxError"
   ]
  },
  {
   "cell_type": "code",
   "execution_count": 216,
   "id": "7a57bb29-1105-4df1-a4c4-5fbf62eef11d",
   "metadata": {},
   "outputs": [
    {
     "data": {
      "text/plain": "11.5"
     },
     "execution_count": 216,
     "metadata": {},
     "output_type": "execute_result"
    }
   ],
   "source": [
    "number + 8   # Стандартные для float операции работают также"
   ]
  },
  {
   "cell_type": "code",
   "execution_count": 217,
   "id": "f0246b31-c55a-4bb8-ac15-46509bd8b340",
   "metadata": {},
   "outputs": [
    {
     "data": {
      "text/plain": "(7, 2)"
     },
     "execution_count": 217,
     "metadata": {},
     "output_type": "execute_result"
    }
   ],
   "source": [
    "number.as_integer_ratio()   # Стандартные для float операции работают также  (это встроенный метод float, писать его НЕ НАДО)"
   ]
  },
  {
   "cell_type": "markdown",
   "id": "3635bceb-723c-4b2f-82e3-269bd914c46c",
   "metadata": {},
   "source": [
    "# Задание 4 (3 балла)"
   ]
  },
  {
   "cell_type": "markdown",
   "id": "31d35f82-1e20-4bf5-b896-7b8163f8386f",
   "metadata": {},
   "source": [
    "В данном задании мы немного отдохнём и повеселимся. От вас требуется заменить в данном коде максимально возможное количество синтаксических конструкций на вызовы dunder методов, dunder атрибутов и dunder переменных.\n",
    "\n",
    "Маленькая заметка: полностью всё заменить невозможно. Например, `function()` можно записать как `function.__call__()`, но при этом мы всё ещё не избавляемся от скобочек, так что можно делать так до бесконечности `function.__call__.__call__.__call__.__call__.....__call__()` и при всём при этом мы ещё не избавляемся от `.` для доступа к атрибутам. В общем, замените всё, что получится, не закапываясь в повторы, как в приведённом примере. Чем больше разных методов вы найдёте и используете, тем лучше и тем выше будет балл\n",
    "\n",
    "Код по итогу дожен работать и печатать число **4420.0**, как в примере. Структуру кода менять нельзя, просто изменяем конструкции на синонимичные\n",
    "\n",
    "И ещё маленькая подсказка. Заменить здесь можно всё кроме:\n",
    "+ Конструкции `for ... in ...`:\n",
    "+ Синтаксиса создания лямбда функции\n",
    "+ Оператора присваивания `=`\n",
    "+ Конструкции `if-else`"
   ]
  },
  {
   "cell_type": "code",
   "execution_count": 166,
   "outputs": [],
   "source": [
    "import numpy as np"
   ],
   "metadata": {
    "collapsed": false
   }
  },
  {
   "cell_type": "code",
   "execution_count": 70,
   "id": "a87cff2a-7168-470d-b38f-1cb5a60ac0c4",
   "metadata": {},
   "outputs": [
    {
     "name": "stdout",
     "output_type": "stream",
     "text": [
      "4420.0\n"
     ]
    }
   ],
   "source": [
    "matrix = []\n",
    "for idx in range(0, 100, 10):\n",
    "    matrix += [list(range(idx, idx + 10))]\n",
    "    \n",
    "selected_columns_indices = list(filter(lambda x: x in range(1, 5, 2), range(len(matrix))))\n",
    "selected_columns = map(lambda x: [x[col] for col in selected_columns_indices], matrix)\n",
    "\n",
    "arr = np.array(list(selected_columns))\n",
    "\n",
    "mask = arr[:, 1] % 3 == 0\n",
    "new_arr = arr[mask]\n",
    "\n",
    "product = new_arr @ new_arr.T\n",
    "\n",
    "if (product[0] < 1000).all() and (product[2] > 1000).any():\n",
    "    print(product.mean())"
   ]
  },
  {
   "cell_type": "code",
   "execution_count": 218,
   "id": "9e29cc00-c8db-4cc4-a93b-2908352d9344",
   "metadata": {},
   "outputs": [
    {
     "name": "stdout",
     "output_type": "stream",
     "text": [
      "4420.0\n"
     ]
    }
   ],
   "source": [
    "matrix = list.__new__(list)\n",
    "for idx in range.__call__(0, 100, 10):\n",
    "    matrix.__iadd__([list.__call__(range(idx, idx.__add__(10)))])\n",
    "\n",
    "selected_columns_indices = list.__call__(filter.__call__(lambda x: x in range(1, 5, 2), range(matrix.__len__())))\n",
    "selected_columns = map.__call__(lambda x: list.__call__(x.__getitem__(col) for col in selected_columns_indices), matrix)\n",
    "arr = np.array(list.__call__(selected_columns))\n",
    "\n",
    "mask = arr.__getitem__((slice(None), 1)).__mod__(3).__eq__(0)\n",
    "new_arr = arr.__getitem__(mask)\n",
    "\n",
    "product = new_arr.__matmul__(new_arr.T)\n",
    "\n",
    "if product.__getitem__(0).__lt__(1000).__eq__(True).__and__(product.__getitem__(2).__gt__(1000)).__contains__(True):\n",
    "    print(product.mean().__repr__())\n"
   ]
  },
  {
   "cell_type": "markdown",
   "id": "e90e5938-cabe-4ee1-9a88-73f25b3b67c3",
   "metadata": {},
   "source": [
    "# Задание 5 (10 баллов)"
   ]
  },
  {
   "cell_type": "markdown",
   "id": "0e58f6a8-7bb8-45f0-b14d-3bcd1f1ba5a9",
   "metadata": {},
   "source": [
    "Напишите абстрактный класс `BiologicalSequence`, который задаёт следующий интерфейс:\n",
    "+ Работа с функцией `len`\n",
    "+ Возможность получать элементы по индексу и делать срезы последовательности (аналогично строкам)\n",
    "+ Вывод на печать в удобном виде и возможность конвертации в строку\n",
    "+ Возможность проверить алфавит последовательности на корректность\n",
    "\n",
    "Напишите класс `NucleicAcidSequence`:\n",
    "+ Данный класс реализует интерфейс `BiologicalSequence`\n",
    "+ Данный класс имеет новый метод `complement`, возвращающий комплементарную последовательность\n",
    "+ Данный класс имеет новый метод `gc_content`, возвращающий GC-состав (без разницы, в процентах или в долях)\n",
    "\n",
    "Напишите классы наследники `NucleicAcidSequence`: `DNASequence` и `RNASequence`\n",
    "+ `DNASequence` должен иметь метод `transcribe`, возвращающий транскрибированную РНК-последовательность\n",
    "+ Данные классы не должны иметь <ins>публичных методов</ins> `complement` и метода для проверки алфавита, так как они уже должны быть реализованы в `NucleicAcidSequence`.\n",
    "\n",
    "Напишите класс `AminoAcidSequence`:\n",
    "+ Данный класс реализует интерфейс `BiologicalSequence`\n",
    "+ Добавьте этому классу один любой метод, подходящий по смыслу к аминокислотной последовательности. Например, метод для нахождения изоэлектрической точки, молекулярного веса и т.д.\n",
    "\n",
    "Комментарий по поводу метода `NucleicAcidSequence.complement`, так как я хочу, чтобы вы сделали его опредедённым образом:\n",
    "\n",
    "При вызове `dna.complement()` или условного `dna.check_alphabet()` должны будут вызываться соответствующие методы из `NucleicAcidSequence`. При этом, данный метод должен обладать свойством полиморфизма, иначе говоря, внутри `complement` не надо делать условия а-ля `if seuqence_type == \"DNA\": return self.complement_dna()`, это крайне не гибко. Данный метод должен опираться на какой-то общий интерфейс между ДНК и РНК. Создание экземпляров `NucleicAcidSequence` не подразумевается, поэтому код `NucleicAcidSequence(\"ATGC\").complement()` не обязан работать, а в идеале должен кидать исключение `NotImplementedError` при вызове от экземпляра `NucleicAcidSequence`\n",
    "\n",
    "Вся сложность задания в том, чтобы правильно организовать код. Если у вас есть повторяющийся код в сестринских классах или родительском и дочернем, значит вы что-то делаете не так.\n",
    "\n",
    "\n",
    "Маленькое замечание: По-хорошему, между классом `BiologicalSequence` и классами `NucleicAcidSequence` и `AminoAcidSequence`, ещё должен быть класс-прослойка, частично реализующий интерфейс `BiologicalSequence`, но его писать не обязательно, так как задание и так довольно большое (правда из-за этого у вас неминуемо возникнет повторяющийся код в классах `NucleicAcidSequence` и `AminoAcidSequence`)"
   ]
  },
  {
   "cell_type": "code",
   "execution_count": 219,
   "id": "f17d5d3f-9982-4271-a987-3af7bc071c42",
   "metadata": {},
   "outputs": [],
   "source": [
    "from abc import ABC, abstractmethod\n",
    "\n",
    "class NotInAlphabetException(Exception):\n",
    "    pass\n",
    "\n",
    "class BiologicalSequence(ABC):\n",
    "\n",
    "    def __init__(self, seq):\n",
    "        self.seq = seq.lower()\n",
    "\n",
    "    def __len__(self):\n",
    "        return len(self.seq)\n",
    "\n",
    "    def __getitem__(self, item):\n",
    "        return self.seq.__getitem__(item)\n",
    "\n",
    "    def __str__(self):\n",
    "        return self.seq\n",
    "\n",
    "    def print(self):\n",
    "        print(self.seq)\n",
    "\n",
    "    @abstractmethod\n",
    "    def check_alphabet(self):\n",
    "        pass\n",
    "\n",
    "\n",
    "class AlphabetAwareSequence(BiologicalSequence, ABC):\n",
    "\n",
    "    def __init__(self, seq, alphabet):\n",
    "        super(AlphabetAwareSequence, self).__init__(seq)\n",
    "        self.alphabet = alphabet\n",
    "\n",
    "    def check_alphabet(self):\n",
    "        for i in self.seq:\n",
    "            if i not in self.alphabet:\n",
    "                return False\n",
    "        return True\n",
    "\n",
    "\n",
    "class NucleicAcidSequence(AlphabetAwareSequence, ABC):\n",
    "\n",
    "    def __init__(self, seq, alphabet, complements):\n",
    "        super(NucleicAcidSequence, self).__init__(seq, alphabet)\n",
    "        self.alphabet = alphabet\n",
    "        self.complements = complements\n",
    "\n",
    "    def complement(self):\n",
    "        try:\n",
    "            return NucleicAcidSequence(\"\".join(map(lambda i: self.complements[i], self.seq)), self.alphabet, self.complements)\n",
    "        except KeyError as e:\n",
    "            raise NotInAlphabetException from e\n",
    "\n",
    "    def gc_content(self):\n",
    "        return sum(map(lambda a: a == \"g\" or a == \"c\", self.seq)) / len(self.seq)\n",
    "\n",
    "\n",
    "dnaAlphabet = 'atgc'\n",
    "dnaComplements = {'a':'t', 't':'a', 'g':'c', 'c':'g'}\n",
    "dnaTranscribes = {'a':'u', 'g':'c', 'c':'g', 't':'a'}\n",
    "class DNASequence(NucleicAcidSequence):\n",
    "\n",
    "    def __init__(self, seq):\n",
    "        super(DNASequence, self).__init__(seq, dnaAlphabet, dnaComplements)\n",
    "\n",
    "    def transcribe(self):\n",
    "        try:\n",
    "            return RNASequence(\"\".join(map(lambda i: dnaTranscribes[i], self.seq)))\n",
    "        except KeyError as e:\n",
    "            raise NotInAlphabetException from e\n",
    "\n",
    "\n",
    "rnaAlphabet = 'augc'\n",
    "rnaComplements = {'a':'u', 'u':'a', 'g':'c', 'c':'g'}\n",
    "class RNASequence(NucleicAcidSequence):\n",
    "\n",
    "    def __init__(self, seq):\n",
    "        super(RNASequence, self).__init__(seq, rnaAlphabet, rnaComplements)\n",
    "\n",
    "\n",
    "aminoacidAlphabet = 'ACDEFGHIKLMNPQRSTVWY'\n",
    "aminoacid_weights = {\n",
    "    \"a\": 89.09,\n",
    "    \"c\": 121.16,\n",
    "    \"d\": 133.10,\n",
    "    \"e\": 147.13,\n",
    "    \"f\": 165.19,\n",
    "    \"g\": 75.07,\n",
    "    \"h\": 155.16,\n",
    "    \"i\": 131.17,\n",
    "    \"k\": 146.19,\n",
    "    \"l\": 131.17,\n",
    "    \"m\": 149.21,\n",
    "    \"n\": 132.12,\n",
    "    \"p\": 115.13,\n",
    "    \"q\": 146.15,\n",
    "    \"r\": 174.20,\n",
    "    \"s\": 105.09,\n",
    "    \"t\": 119.12,\n",
    "    \"v\": 117.15,\n",
    "    \"w\": 204.23,\n",
    "    \"y\": 181.19,\n",
    "}\n",
    "class AminoAcidSequence(AlphabetAwareSequence):\n",
    "\n",
    "    def __init__(self, seq):\n",
    "        super(AminoAcidSequence, self).__init__(seq, aminoacidAlphabet)\n",
    "\n",
    "    def __rep__(self):\n",
    "        return f\"NH2-{self.seq}-COOH\"\n",
    "\n",
    "    def weight(self):\n",
    "        try:\n",
    "            return sum(map(lambda i: aminoacid_weights[i], self.seq))\n",
    "        except KeyError as e:\n",
    "            raise NotInAlphabetException from e"
   ]
  },
  {
   "cell_type": "code",
   "execution_count": 220,
   "outputs": [
    {
     "name": "stdout",
     "output_type": "stream",
     "text": [
      "atgccgtaagccg\n",
      "tacggcattcggc\n",
      "uacggcauucggc\n"
     ]
    },
    {
     "data": {
      "text/plain": "0.6153846153846154"
     },
     "execution_count": 220,
     "metadata": {},
     "output_type": "execute_result"
    }
   ],
   "source": [
    "dna = DNASequence('atgccgtaagccg')\n",
    "dna.print()\n",
    "\n",
    "dna.complement().print()\n",
    "\n",
    "dna.transcribe().print()\n",
    "\n",
    "dna.gc_content()"
   ],
   "metadata": {
    "collapsed": false
   }
  },
  {
   "cell_type": "code",
   "execution_count": 222,
   "outputs": [
    {
     "data": {
      "text/plain": "1004.14"
     },
     "execution_count": 222,
     "metadata": {},
     "output_type": "execute_result"
    }
   ],
   "source": [
    "AminoAcidSequence(\"KLWYSTV\").weight()"
   ],
   "metadata": {
    "collapsed": false
   }
  }
 ],
 "metadata": {
  "kernelspec": {
   "display_name": "Python 3 (ipykernel)",
   "language": "python",
   "name": "python3"
  },
  "language_info": {
   "codemirror_mode": {
    "name": "ipython",
    "version": 3
   },
   "file_extension": ".py",
   "mimetype": "text/x-python",
   "name": "python",
   "nbconvert_exporter": "python",
   "pygments_lexer": "ipython3",
   "version": "3.9.12"
  }
 },
 "nbformat": 4,
 "nbformat_minor": 5
}
