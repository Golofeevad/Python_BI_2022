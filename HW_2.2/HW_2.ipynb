{
 "cells": [
  {
   "cell_type": "markdown",
   "id": "72f5013c-f4b9-4a1f-aed9-7e47623e7c8a",
   "metadata": {},
   "source": [
    "# Задание 1 (2 балла)"
   ]
  },
  {
   "cell_type": "markdown",
   "id": "0e818fc0-4716-45c6-8942-7b60da358200",
   "metadata": {},
   "source": [
    "Напишите класс `MyDict`, который будет полностью повторять поведение обычного словаря, за исключением того, что при итерации мы должны получать и ключи, и значения.\n",
    "\n",
    "**Модули использовать нельзя**"
   ]
  },
  {
   "cell_type": "code",
   "execution_count": 35,
   "id": "3dc27675-99fc-4040-a8f7-aa20be51c816",
   "metadata": {},
   "outputs": [],
   "source": [
    "# Ваш код здесь\n",
    "class MyDict(dict):\n",
    "    def __iter__(self):\n",
    "        for key in super().__iter__():\n",
    "            yield key, self[key]"
   ]
  },
  {
   "cell_type": "code",
   "execution_count": 36,
   "id": "a96e453e-2553-40b1-889f-cce04c6db771",
   "metadata": {},
   "outputs": [
    {
     "name": "stdout",
     "output_type": "stream",
     "text": [
      "a 1\n",
      "b 2\n",
      "c 3\n",
      "d 25\n"
     ]
    }
   ],
   "source": [
    "dct = MyDict({\"a\": 1, \"b\": 2, \"c\": 3, \"d\": 25})\n",
    "for key, value in dct:\n",
    "    print(key, value)   "
   ]
  },
  {
   "cell_type": "code",
   "execution_count": 37,
   "id": "d3b93507-d88a-4773-8d6f-31990e1effbc",
   "metadata": {},
   "outputs": [
    {
     "name": "stdout",
     "output_type": "stream",
     "text": [
      "a 1\n",
      "b 2\n",
      "c 3\n",
      "d 25\n"
     ]
    }
   ],
   "source": [
    "for key, value in dct.items():\n",
    "    print(key, value)"
   ]
  },
  {
   "cell_type": "code",
   "execution_count": 38,
   "id": "9be2de18-f963-4de0-afba-c183a9a56087",
   "metadata": {},
   "outputs": [
    {
     "name": "stdout",
     "output_type": "stream",
     "text": [
      "a\n",
      "b\n",
      "c\n",
      "d\n"
     ]
    }
   ],
   "source": [
    "for key in dct.keys():\n",
    "    print(key)"
   ]
  },
  {
   "cell_type": "code",
   "execution_count": 39,
   "id": "b7bfbf08-7253-4aab-a9a0-a8e8500c5a29",
   "metadata": {},
   "outputs": [
    {
     "data": {
      "text/plain": "28"
     },
     "execution_count": 39,
     "metadata": {},
     "output_type": "execute_result"
    }
   ],
   "source": [
    "dct[\"c\"] + dct[\"d\"]"
   ]
  },
  {
   "cell_type": "markdown",
   "id": "4bde5544-afd0-408e-a03b-dad5096ee685",
   "metadata": {},
   "source": [
    "# Задание 2 (2 балла)"
   ]
  },
  {
   "cell_type": "markdown",
   "id": "36e85085-9990-4a2a-a005-f5ef3afd438d",
   "metadata": {},
   "source": [
    "Напишите функцию `iter_append`, которая \"добавляет\" новый элемент в конец итератора, возвращая итератор, который включает изначальные элементы и новый элемент. Итерироваться по итератору внутри функции нельзя, то есть вот такая штука не принимается\n",
    "```python\n",
    "def iter_append(iterator, item):\n",
    "    lst = list(iterator) + [item]\n",
    "    return iter(lst)\n",
    "```\n",
    "\n",
    "**Модули использовать нельзя**"
   ]
  },
  {
   "cell_type": "code",
   "execution_count": 40,
   "id": "d70f202a-0515-4f40-a9b1-4738572a837c",
   "metadata": {},
   "outputs": [
    {
     "name": "stdout",
     "output_type": "stream",
     "text": [
      "1\n"
     ]
    }
   ],
   "source": [
    "def iter_append(iterator, item):\n",
    "    for i in iterator:\n",
    "        yield i\n",
    "    yield item\n",
    "    \n",
    "\n",
    "my_iterator = iter([1, 2, 3])\n",
    "new_iterator = iter_append(my_iterator, 4)\n",
    "\n",
    "for element in new_iterator:\n",
    "    print(element)\n",
    "    break"
   ]
  },
  {
   "cell_type": "markdown",
   "id": "72c35894-0caf-41ac-a584-56058b243f29",
   "metadata": {},
   "source": [
    "# Задание 3 (5 баллов)"
   ]
  },
  {
   "cell_type": "markdown",
   "id": "884be4ed-b388-4b36-ad7d-d6835a87425e",
   "metadata": {},
   "source": [
    "Представим, что мы установили себе некотурую библиотеку, которая содержит в себе два класса `MyString` и `MySet`, которые являются наследниками `str` и `set`, но также несут и дополнительные методы.\n",
    "\n",
    "Проблема заключается в том, что библиотеку писали не очень аккуратные люди, поэтому получилось так, что некоторые методы возвращают не тот тип данных, который мы ожидаем. Например, `MyString().reverse()` возвращает объект класса `str`, хотя логичнее было бы ожидать объект класса `MyString`.\n",
    "\n",
    "Найдите и реализуйте удобный способ сделать так, чтобы подобные методы возвращали экземпляр текущего класса, а не родительского. При этом **код методов изменять нельзя**\n",
    "\n",
    "**+3 дополнительных балла** за реализацию того, чтобы **унаследованные от `str` и `set` методы** также возвращали объект интересующего нас класса (то есть `MyString.replace(..., ...)` должен возвращать `MyString`). **Переопределять методы нельзя**\n",
    "\n",
    "**Модули использовать нельзя**"
   ]
  },
  {
   "cell_type": "code",
   "execution_count": 41,
   "id": "7973388e-c16f-437f-a1af-30ddd69f7671",
   "metadata": {},
   "outputs": [],
   "source": [
    "# Ваш код где угодно, но не внутри методов\n",
    "def wrap_class(cls):\n",
    "    \n",
    "    def decor_function( attr):\n",
    "        def wrap_result(*args, **kwargs):\n",
    "            res = attr(*args, **kwargs)\n",
    "            if isinstance(res, str):\n",
    "                return MyString(res)\n",
    "            if isinstance(res, set):\n",
    "                return MySet(res)\n",
    "            return res\n",
    "        return wrap_result\n",
    "    \n",
    "    class CustomClassWrapper(cls):\n",
    "        def __init__(self, *args, **kwargs):\n",
    "            for attr_name in dir(self):\n",
    "                if not attr_name.startswith('__') and not attr_name.endswith('__'):\n",
    "                    attr = getattr(self, attr_name)\n",
    "                    if callable(attr):\n",
    "                        setattr(self, attr_name, decor_function(attr))\n",
    "    return CustomClassWrapper\n",
    "\n",
    "@wrap_class\n",
    "class MyString(str):\n",
    "\n",
    "    def reverse(self):\n",
    "        return self[::-1]\n",
    "    \n",
    "    def make_uppercase(self):\n",
    "        return \"\".join([chr(ord(char) - 32) if 97 <= ord(char) <= 122 else char for char in self])\n",
    "    \n",
    "    def make_lowercase(self):\n",
    "        return \"\".join([chr(ord(char) + 32) if 65 <= ord(char) <= 90 else char for char in self])\n",
    "    \n",
    "    def capitalize_words(self):\n",
    "        return \" \".join([word.capitalize() for word in self.split()])\n",
    "\n",
    "@wrap_class\n",
    "class MySet(set):\n",
    "    \n",
    "    def is_empty(self):\n",
    "        return len(self) == 0\n",
    "    \n",
    "    def has_duplicates(self):\n",
    "        return len(self) != len(set(self))\n",
    "    \n",
    "    def union_with(self, other):\n",
    "        return self.union(other)\n",
    "    \n",
    "    def intersection_with(self, other):\n",
    "        return self.intersection(other)\n",
    "    \n",
    "    def difference_with(self, other):\n",
    "        return self.difference(other)"
   ]
  },
  {
   "cell_type": "code",
   "execution_count": 42,
   "id": "8b985a7b-ddf2-47ce-8b76-a4dd921a2e06",
   "metadata": {},
   "outputs": [
    {
     "name": "stdout",
     "output_type": "stream",
     "text": [
      "<class '__main__.wrap_class.<locals>.CustomClassWrapper'>\n",
      "<class '__main__.wrap_class.<locals>.CustomClassWrapper'>\n",
      "<class '__main__.wrap_class.<locals>.CustomClassWrapper'>\n",
      "<class '__main__.wrap_class.<locals>.CustomClassWrapper'>\n",
      "<class '__main__.wrap_class.<locals>.CustomClassWrapper'>\n",
      "\n",
      "<class 'bool'>\n",
      "<class 'bool'>\n",
      "<class '__main__.wrap_class.<locals>.CustomClassWrapper'>\n",
      "<class '__main__.wrap_class.<locals>.CustomClassWrapper'>\n"
     ]
    }
   ],
   "source": [
    "string_example = MyString(\"Aa Bb Cc\")\n",
    "set_example_1 = MySet({1, 2, 3, 4})\n",
    "set_example_2 = MySet({3, 4, 5, 6, 6})\n",
    "\n",
    "print(type(string_example.reverse()))\n",
    "print(type(string_example.make_uppercase()))\n",
    "print(type(string_example.make_lowercase()))\n",
    "print(type(string_example.capitalize_words()))\n",
    "print(type(string_example.replace(\"Aa\", \"cc\")))\n",
    "print()\n",
    "print(type(set_example_1.is_empty()))\n",
    "print(type(set_example_2.has_duplicates()))\n",
    "print(type(set_example_1.union_with(set_example_2)))\n",
    "print(type(set_example_1.difference_with(set_example_2)))"
   ]
  },
  {
   "cell_type": "markdown",
   "id": "f246ecea-9aaa-45c6-98e4-996dc9cdce14",
   "metadata": {},
   "source": [
    "# Задание 4 (5 баллов)"
   ]
  },
  {
   "cell_type": "markdown",
   "id": "e66831d7-df9c-4778-9942-bbb8796fef1e",
   "metadata": {},
   "source": [
    "Напишите декоратор `switch_privacy`:\n",
    "1. Делает все публичные **методы** класса приватными\n",
    "2. Делает все приватные методы класса публичными\n",
    "3. Dunder методы и защищённые методы остаются без изменений\n",
    "4. Должен работать тестовый код ниже, в теле класса писать код нельзя\n",
    "\n",
    "**Модули использовать нельзя**"
   ]
  },
  {
   "cell_type": "code",
   "execution_count": 43,
   "id": "733db8d6-87b8-4797-97be-d3b901422ded",
   "metadata": {},
   "outputs": [],
   "source": [
    "def switch_privacy(cls):\n",
    "    class SwitchedClass(cls):\n",
    "        def __init__(self, *args, **kwargs):\n",
    "            super().__init__(*args, **kwargs)\n",
    "            for attr_name in dir(self):\n",
    "                attr = getattr(self, attr_name)\n",
    "                \n",
    "                if attr_name.startswith('__') and attr_name.endswith('__'):\n",
    "                    continue\n",
    "                if attr_name.startswith('_' + cls.__name__):\n",
    "                    prefix_len = 1 + len(cls.__name__) + 2\n",
    "                    setattr(self, attr_name[prefix_len:], attr)\n",
    "                    continue\n",
    "                if attr_name.startswith('_'):\n",
    "                    continue\n",
    "                setattr(self, f'_{cls.__name__}__{attr_name}', attr)\n",
    "\n",
    "    return SwitchedClass\n",
    "\n",
    "# Ваш код здесь\n",
    "@switch_privacy\n",
    "class ExampleClass:\n",
    "    # Но не здесь\n",
    "    def public_method(self):\n",
    "        return 1\n",
    "    \n",
    "    def _protected_method(self):\n",
    "        return 2\n",
    "    \n",
    "    def __private_method(self):\n",
    "        return 3\n",
    "    \n",
    "    def __dunder_method__(self):\n",
    "        pass"
   ]
  },
  {
   "cell_type": "code",
   "execution_count": 44,
   "id": "c936077d-e618-459c-bbcc-6ad1b22d0975",
   "metadata": {},
   "outputs": [
    {
     "data": {
      "text/plain": "1"
     },
     "execution_count": 44,
     "metadata": {},
     "output_type": "execute_result"
    }
   ],
   "source": [
    "test_object = ExampleClass()\n",
    "# print(dir(test_object))\n",
    "\n",
    "test_object._ExampleClass__public_method()   # Публичный метод стал приватным"
   ]
  },
  {
   "cell_type": "code",
   "execution_count": 45,
   "id": "10603672-80cf-460c-9305-d0950094419d",
   "metadata": {},
   "outputs": [
    {
     "data": {
      "text/plain": "3"
     },
     "execution_count": 45,
     "metadata": {},
     "output_type": "execute_result"
    }
   ],
   "source": [
    "test_object.private_method()   # Приватный метод стал публичным"
   ]
  },
  {
   "cell_type": "code",
   "execution_count": 46,
   "id": "f30b1ef8-0f80-482d-89f1-09caece61c88",
   "metadata": {},
   "outputs": [
    {
     "data": {
      "text/plain": "2"
     },
     "execution_count": 46,
     "metadata": {},
     "output_type": "execute_result"
    }
   ],
   "source": [
    "test_object._protected_method()   # Защищённый метод остался защищённым"
   ]
  },
  {
   "cell_type": "code",
   "execution_count": 47,
   "id": "71d51e6e-62b5-4440-af3e-75088761b1bf",
   "metadata": {},
   "outputs": [],
   "source": [
    "test_object.__dunder_method__()   # Дандер метод не изменился"
   ]
  },
  {
   "cell_type": "code",
   "execution_count": 48,
   "id": "a97cf0c4-4881-441c-83b6-ef8955377585",
   "metadata": {},
   "outputs": [
    {
     "data": {
      "text/plain": "(True, False)"
     },
     "execution_count": 48,
     "metadata": {},
     "output_type": "execute_result"
    }
   ],
   "source": [
    "hasattr(test_object, \"public_method\"), hasattr(test_object, \"private\")   # Изначальные варианты изменённых методов не сохраняются"
   ]
  },
  {
   "cell_type": "markdown",
   "id": "31ad0bdd-9a24-4d6c-a499-e975b4b6acdd",
   "metadata": {},
   "source": [
    "# Задание 5 (7 баллов)"
   ]
  },
  {
   "cell_type": "markdown",
   "id": "68c75d25-37f7-491d-bcc0-ba74e8bdb364",
   "metadata": {},
   "source": [
    "Напишите [контекстный менеджер](https://docs.python.org/3/library/stdtypes.html#context-manager-types) `OpenFasta`\n",
    "\n",
    "Контекстные менеджеры это специальные объекты, которые могут работать с конструкцией `with ... as ...:`. В них нет ничего сложного, для их реализации как обычно нужно только определить только пару dunder методов. Изучите этот вопрос самостоятельно\n",
    "\n",
    "1. Объект должен работать как обычные файлы в питоне (наследоваться не надо, здесь лучше будет использовать **композицию**), но:\n",
    "    + При итерации по объекту мы должны будем получать не строку из файла, а специальный объект `FastaRecord`. Он будет хранить в себе информацию о последовательности. Важно, **не строки, а именно последовательности**, в fasta файлах последовательность часто разбивают на много строк\n",
    "    + Нужно написать методы `read_record` и `read_records`, которые по смыслу соответствуют `readline()` и `readlines()` в обычных файлах, но они должны выдавать не строки, а объект(ы) `FastaRecord`\n",
    "2. Конструктор должен принимать один аргумент - **путь к файлу**\n",
    "3. Класс должен эффективно распоряжаться памятью, с расчётом на работу с очень большими файлами\n",
    "    \n",
    "Объект `FastaRecord`. Это должен быть **датакласс** (см. про примеры декораторов в соответствующей лекции) с тремя полями:\n",
    "+ `seq` - последовательность\n",
    "+ `id_` - ID последовательности (это то, что в фаста файле в строке, которая начинается с `>` до первого пробела. Например, >**GTD326487.1** Species anonymous 24 chromosome) \n",
    "+ `description` - то, что осталось после ID (Например, >GTD326487.1 **Species anonymous 24 chromosome**)\n",
    "\n",
    "\n",
    "Напишите демонстрацию работы кода с использованием всех написанных методов, обязательно добавьте файл с тестовыми данными в репозиторий (не обязательно большой)\n",
    "\n",
    "**Можно использовать модули из стандартной библиотеки**"
   ]
  },
  {
   "cell_type": "code",
   "execution_count": 56,
   "id": "5188b5d5-1e6e-4b11-9b54-9ba809210dfc",
   "metadata": {},
   "outputs": [
    {
     "name": "stdout",
     "output_type": "stream",
     "text": [
      "first record: FastaRecord(seq='CTCTTTCTCGATTCAGTGGATGGTGGTGCATGGCCGTTCTTAGTTGGTGGAGTGATCTGTCTGGTTAATTCCGATAACGAACGAGACTCTCCCCTGCTAACTAGTCGGTTGGATCTTGATCAGTGGGTTGAGTGCCGAGTAACTCTCGCTGTGCGTGGTGTGCGTCTCGTTCCTCACGGTTCGTTGCGTGCTCATGTGTGGCGTTGGATGCCTTGGATCACACTGCACCCCAAGTCCGCCGCTTTGCTATAACTCTTCTTAGAGGGATTCACGGCACTGAAGCCGTAAGAGACTGAGAGCAATAACAGGTCTGTGATGCCCTTAGATGCTCTGGGCCGCACGCGCGCTACAATGCCGGGCACAGCAGGTGTTTCTCCTGCTCCGACAGGAGCGGGTAACCCTCTGAAAGCCAGTGTTCTTGCAAGTGCTTCCTCCCTCGTGGAGTTGCACAGAGGCGTGCTTGGGCCTGGGACTTGCAATTCTTTCCCACCAACGAGGAATGCCTAGTAGCGGCGGGTCACTGAGCCCGCCGTGACTCAGTCCCTGCCCTTTGTACACACCGCCCGTCGCTACTACCGATTGGGTGTACCAGTGAGAGCCTTGGACTGGCGTCCGTTGTTGCTCGCAAGAGTGACAAGCGGGTCCGACGGAAAGAGGTCCGAACTGGTGCACTTAGAGGAAGTAAA', id_='AY926868.1', description='Parapallasea borowskii 18S ribosomal RNA gene, partial sequence')\n",
      "other record: FastaRecord(seq='CTGTGTTCACACGGCGAGACCGCGRACGGCTCATTAAATCAGTCGTGGTCCAAATGGGCCAGTGCAAATCCTACTTGGATAACTGTGGTAATTCCAGAGCTAATACATGCAACTGATATCCCGAAGGCGGTGTTTGTTCTTGCTTGCCTTGCGCTGGCGCTGCTCTGACGGATGCTTTTATTAGACCAAGCCGCTGAGGACTTGAGGGTTCGCGCTCTCTTGTTTGACTCGTGTGATGGTGACTCTGGATAACCAAATTCTGACAAGCGCACGTACTTCTCTTCTGAGCGAGACGGCGCTGCCACTTTCGAGTGTCTGCCTTATCAGCTATCAACCGTTCGTTATGCGCGACCGATGGCTTTGACGGGTAACGGGGAATCAGGGTTCGATTCCGGAGAGGCAGCCTGAGAGACGGCTACCACGTCCAAGGACGGCAGCAGGCACGCAAATTACCCAATCCCAGCAAATGGGGGAGGTAGTGACGAAATCTAACGATGCGGGCGCCCTTTCTGGGGCCCCGCAATCGGAATGGGCACTTTCTAAACAACCTGTTGAGAACCTACTGAAGGGCAAGTCTGGTGCCAGCAGCCGCGGTAATTCCAGCTTCAGCAGCATCTATTAAAGTTGCTGCGGTTAAAAGGCTCGCAGTTGAATGTCTGTATCGAGCGCAGGTCAGGTGGACGTT', id_='AY926807.1', description='Parapallasea borowskii 18S ribosomal RNA gene, partial sequence')\n",
      "other record: FastaRecord(seq='CCTATCTGGTTGATCCTGCCAGTAGTCATATGCTTGTCTCAAAGATTAAGCCATGCATGTCTAAGTCCAAGCTGTGTTCACACGGCGAGACCGCGGACGGCTCATTAAATCAGTCGTGGTCCAAATGGGCCAGTGCAAATCCTACTTGGATAACTGTGGTAATTCCAGAGCTAATACACGCAACTGATATCCCGAAGGCGGTGTTTTGTTCTTGCTTGCCTTGCGCTGGCACTGCTCTGACGGATGCTTTTATTAGACCAAGCCGCTGAGGACTTGAGGGTTCGCGCTCTCTTGTTTGACTCGTGTGATGGTGACTCTGGATAACCAAATTCTGACAAGCGCACGTACTTCTCTTCTGAGCGAGACGGCGCTGCCACTTTCGAGTGTCTGCCTTATCAGCTATCAACCGTTCGTTATGCGCGACCGATGGCTTTGACGGGTAACGGGGAATCAGGGTTCGATTCCGGAGAGGCAGCCTGAGAGACGGCTACCACGTCCAAGGACGGCAGCAGGCACGCAAATTACCCAATCCCAGCAAATGGGGGAGGTAGTGACGAAATCTAACGATGCGGGCGCCCTTTCTGGGGCCCCGCAATCGGAATGGGCACTTTCTAAACAACCTGTTGAGAACCTACTGAAGGGCAAGTCTGGTGCCAGCAGCCGCGGTAATTCCAGCTTCAGCAGCATCTATTAAAGTTGCTGCGGTTAAAAGGCTCGCAGTTGAATGTCTGTATCGAGCGCAGGTCAGGTGGACGTTGGGGCGTGGAAGTACGGGCAGTTGGATGTCCGGGGGGCCTCGTGCTCAACGGCTCCTTCGGCTTTTCCACACACCCCCGTCCCTTACAAGCCTCCTCGCTCGGGTACATAACGGGAATCGGTCAAACGGAGTGTGGTCTTGGGAGTTGGGGCGTGCGTGGCTTCGCGGTTGCGTGCGTTCTTTCTTTCGGGGCTGCGTCAAGCTCCATCGGTTTCACGGTCACCTTGAGTAAATCAGAGTGCTCAAAGCAGTCGTAGGGGCCTTGCGCCCTGTGAACAGTCTTGACGGACTGACTTGGTTTTGCATGGCATGTCGGAAGACGACGTCGTGTGCTGGCTCAGAGGATAAATCAGTGGTACAAGCCAGCCTCGACGTAATGATTAAAAGGGACGGTCGAGGGCATTGGTATTGCGAGGCGAGAGGTGAAATTCTGTGACCCCCGCAAGACCTCCTGAAGCGAAAGCGTCTGCCAAGGACGTTTTCATTAATCATGAAACGAAAGTTAGAGGATCGAAGGCGATCAGATACCGCCCTAGTTCTAACCCTAAACGATGCCAACCATCAATCCGCGCGTAGCACCCTTCTTAACGGGCTCGGCGGGCAGCTCCCCACTCACGGGAAACCAGAGCCTCTGGGTTCCGGGGGGAGTCTGGTTGCAAAGCTGAAACTTAAAGGAATTGACGGAAAGGCACCACCAGGCGTGGACGCTGCGGCTTAATTTGACTCAACACGGGCCATCTCACCAGGCCAGCACTCTTGTACGATTGACAGATTGAGAGCTCTTTCTCGATTCAGTGGATGGTGGTGCATGGCCGTTCTTAGTTGGTGGAGTGATCTGTCTGGTTAATTCCGATAACGAACGAGACTCTCCCCTGCTAACTAGTCGGTTGGATCTTGATCAGTGGGTTGAGTGCCGAGTAACTCTCGCTGTGCGTGGTGTGCGTCTCGTTCCTCACGGTTCGTTGCGTGCTCATGGTGTGGCGTTGGATGCCTTGGATCACACTGCACCCCAAGTCCGCCGCTTTGCTATAACTCTTCTTAGAGGGATTCACGGCACTGAAGCCGTAAGAGACTGAGAGCAATAACAGGTCTGTGATGCCCTTAGATGCTCTGGGCCGCACGCGCGCTACAATGCCGGGCACAGCAGGTGTTTCTCCTGCTCCGACAGGAGCGGGTAACCCTCTGAAAGCCAGTGTTCTTGCAAGTGCTTCCTCCCTCGTGGAGTTGCACAGAGGCGTGCTTGGGCCTGGGACTTGCAATTCTTTCCCACCAACGAGGAATGCCTAGTAGCGGCGGGTCACTGAGCCCGCTGTGACTCAGTCCCTGCCCTTTGTACACACCGCCCGTCGCTACTACCGATTGGGTGTACCAGTGAGAGCCTTGGACTGGCGTCCGTTGTTGCTCGCAAGAGTGACAAGCGGGTCCGACGGAAAGAGGTCCGAACTGGTGCACTTAGAGGAAGTAAAAGTCGTAACAAGGTTTCCGTAGTGAACCTGCGGAAGGATCATTA', id_='AF419223.1', description='Parapallasea lagowski 18S small subunit ribosomal RNA gene, complete sequence')\n",
      "other record: FastaRecord(seq='CTGCTTGTCTCAAAGATTAAGCCATGCATGTCTAAGTCCAAGCTGTGTTCACACGGCGAGACCGCGGACGGCTCATTAAATCAGTCGTGGTCCAAATGGGCCAGTCCAAATCCTACTTGGTTAACTGTGGTAATTCCAGAGCTAATACATGCAACTGATATCCCGAGGCGGTGTTTGTGCTTGCTTGCCTTGCGCTGGCACTGCTCTGACGGATGCTTTTATTAGACCAAGCCGCTGAGGACTTGAGGGTTCGCGCTCTCTTGTTTGACCCGTGTGATGGTGACTCTGGATAACCAAAATCTGACAAGCGCACGTACTTCTCTTCTTGAGCGAGACGGGCTGCCACTTTCGAGTGTCTGCCTTATCAGCTATCAACCGTCCGTTATGCGCGACCGATGGCTTTGACGGGTAACGGGGAATCAGGGTTCGAATCCGGAGAGGCAGCCTGAGAGACGGCTACCACGTCCAAGGACGGCAGCAGGCACGCAAATTACCCAATCCCAGCAAATGGGGGAGGTAGTGACGAAATCTAACGATGCGGGCGCCCTTTCTGGGCCGCCAATGGAATGGGCACTTTCTAAACAACCTGNTGAGGAACCTACTGAAGG', id_='Z98986.1', description='Parapallasea lagowskii DNA for 18S ribosomal RNA')\n"
     ]
    }
   ],
   "source": [
    "# Ваш код здесь\n",
    "import os\n",
    "from dataclasses import dataclass\n",
    "\n",
    "@dataclass\n",
    "class FastaRecord:\n",
    "    seq: str\n",
    "    id_: str\n",
    "    description: str\n",
    "\n",
    "class OpenFasta:\n",
    "    def __init__(self, path):\n",
    "        self.path = path\n",
    "        self.__file = None\n",
    "        \n",
    "    def __enter__(self):\n",
    "        self.open()\n",
    "        return self\n",
    "    \n",
    "    def __exit__(self, exc_type, exc_val, exc_tb):\n",
    "        self.__file = None\n",
    "        return False\n",
    "        \n",
    "    def open(self):\n",
    "        self.__file = open(self.path, 'r')\n",
    "        \n",
    "    def close(self):\n",
    "        if self.__file is not None:\n",
    "            self.__file.close()\n",
    "            self.__file = None\n",
    "            \n",
    "    def read_record(self):\n",
    "        if self.__file is None:\n",
    "            raise IOError('Fasta file was not opened')\n",
    "        id = None\n",
    "        description = None\n",
    "        seq = \"\"\n",
    "        while True:\n",
    "            pos = self.__file.tell()\n",
    "            first_char = self.__file.read(1)\n",
    "            self.__file.seek(pos)\n",
    "            if first_char == '':\n",
    "                if id is not None:\n",
    "                    return FastaRecord(seq, id, description)\n",
    "                else:\n",
    "                    return None\n",
    "            if first_char == '>':\n",
    "                if id is not None:\n",
    "                    return FastaRecord(seq, id, description)\n",
    "            line = self.__file.readline()\n",
    "            if line.startswith('>'):\n",
    "                id, description = line[1::].split(' ', 1)\n",
    "                description = description[:-1]\n",
    "            else:\n",
    "                seq += line[:-1]\n",
    "            \n",
    "    def read_records(self):\n",
    "        while True:\n",
    "            record = self.read_record()\n",
    "            if record is None:\n",
    "                break\n",
    "            yield record\n",
    "                \n",
    "\n",
    "with OpenFasta(os.path.join(\"data\", \"example.fasta\")) as fasta:\n",
    "    record = fasta.read_record()\n",
    "    print(f\"first record: {record}\")\n",
    "    for r in fasta.read_records():\n",
    "        print(f\"other record: {r}\")\n",
    "        "
   ]
  },
  {
   "cell_type": "markdown",
   "id": "4db652e9-7697-4dd7-bcc3-649bdc18c1c4",
   "metadata": {},
   "source": [
    "# Задание 6 (7 баллов)"
   ]
  },
  {
   "cell_type": "markdown",
   "id": "a8ba05f3-29f0-48be-a477-c1f61a9e0537",
   "metadata": {},
   "source": [
    "1. Напишите код, который позволит получать все возможные (неуникальные) генотипы при скрещивании двух организмов. Это может быть функция или класс, что вам кажется более удобным.\n",
    "\n",
    "Например, все возможные исходы скрещивания \"Aabb\" и \"Aabb\" (неуникальные) это\n",
    "\n",
    "```\n",
    "AAbb\n",
    "AAbb\n",
    "AAbb\n",
    "AAbb\n",
    "Aabb\n",
    "Aabb\n",
    "Aabb\n",
    "Aabb\n",
    "Aabb\n",
    "Aabb\n",
    "Aabb\n",
    "Aabb\n",
    "aabb\n",
    "aabb\n",
    "aabb\n",
    "aabb\n",
    "```\n",
    "\n",
    "2. Напишите функцию, которая вычисляет вероятность появления определённого генотипа (его ожидаемую долю в потомстве).\n",
    "Например,\n",
    "\n",
    "```python\n",
    "get_offspting_genotype_probability(parent1=\"Aabb\", parent2=\"Aabb\", target_genotype=\"Аabb\")   # 0.5\n",
    "\n",
    "```\n",
    "\n",
    "3. Напишите код, который выводит все уникальные генотипы при скрещивании `'АаБбввГгДдЕеЖжЗзИиЙйккЛлМмНн'` и `'АаббВвГгДДЕеЖжЗзИиЙйКкЛлМмНН'`, которые содержат в себе следующую комбинацию аллелей `'АаБбВвГгДдЕеЖжЗзИиЙйКкЛл'`\n",
    "4. Напишите код, который расчитывает вероятность появления генотипа `'АаБбввГгДдЕеЖжЗзИиЙйккЛлМмНн'` при скрещивании `АаБбВвГгДдЕеЖжЗзИиЙйКкЛлМмНн` и `АаБбВвГгДдЕеЖжЗзИиЙйКкЛлМмНн`\n",
    "\n",
    "Важные замечания:\n",
    "1. Порядок следования аллелей в случае гетерозигот всегда должен быть следующим: сначала большая буква, затем маленькая (вариант `AaBb` допустим, но `aAbB` быть не должно)\n",
    "2. Подзадачи 3 и 4 могут потребовать много вычислительного времени (до 15+ минут в зависимости от железа), поэтому убедитесь, что вы хорошо протестировали написанный вами код на малых данных перед выполнением этих задач. Если ваш код работает **дольше 20 мин**, то скорее всего ваше решение не оптимально, попытайтесь что-нибудь оптимизировать. Если оптимальное решение совсем не получается, то попробуйте из входных данных во всех заданиях убрать последний ген (это должно уменьшить время выполнения примерно в 4 раза), но **за такое решение будет снято 2 балла**\n",
    "3. Несмотря на то, что подзадания 2, 3 и 4 возможно решить математически, не прибегая к непосредственному получению всех возможных генотипов, от вас требуется именно brute-force вариант алгоритма\n",
    "\n",
    "**Можно использовать модули из стандартной библиотеки питона**, но **за выполнение задания без использования модулей придусмотрено +3 дополнительных балла**"
   ]
  },
  {
   "cell_type": "code",
   "execution_count": 57,
   "id": "c64841e9-dfcd-45bb-bcaa-d672ea03a744",
   "metadata": {
    "tags": []
   },
   "outputs": [],
   "source": [
    "# Ваш код здесь (1 и 2 подзадание)"
   ]
  },
  {
   "cell_type": "code",
   "execution_count": 58,
   "id": "fdfb6d8c-0da7-4857-9579-6921dc409eb3",
   "metadata": {
    "tags": []
   },
   "outputs": [],
   "source": [
    "# Ваш код здесь (3 подзадание)"
   ]
  },
  {
   "cell_type": "code",
   "execution_count": 59,
   "id": "3e8a17cc-0642-49ae-ba6b-51ab5499660e",
   "metadata": {},
   "outputs": [],
   "source": [
    "# Ваш код здесь (4 подзадание)"
   ]
  }
 ],
 "metadata": {
  "kernelspec": {
   "display_name": "Python 3 (ipykernel)",
   "language": "python",
   "name": "python3"
  },
  "language_info": {
   "codemirror_mode": {
    "name": "ipython",
    "version": 3
   },
   "file_extension": ".py",
   "mimetype": "text/x-python",
   "name": "python",
   "nbconvert_exporter": "python",
   "pygments_lexer": "ipython3",
   "version": "3.9.12"
  },
  "pycharm": {
   "stem_cell": {
    "cell_type": "raw",
    "source": [],
    "metadata": {
     "collapsed": false
    }
   }
  }
 },
 "nbformat": 4,
 "nbformat_minor": 5
}
